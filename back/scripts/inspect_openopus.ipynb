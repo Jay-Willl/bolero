{
 "cells": [
  {
   "metadata": {
    "ExecuteTime": {
     "end_time": "2024-12-30T00:16:22.186860Z",
     "start_time": "2024-12-30T00:16:21.850118Z"
    }
   },
   "cell_type": "code",
   "source": "import pandas as pd",
   "id": "518fb00cc79b3419",
   "outputs": [],
   "execution_count": 1
  },
  {
   "cell_type": "code",
   "id": "initial_id",
   "metadata": {
    "collapsed": true
   },
   "source": [
    "db_config = {\n",
    "    'host': 'localhost',\n",
    "    'user': 'root',\n",
    "    'password': 'casper',\n",
    "    'database': 'bolero'\n",
    "}\n",
    "\n",
    "IN_FILE = '../data/dump.json'\n",
    "\n",
    "composer_columns = ['composer_id', 'name', 'complete_name', 'birth', 'death', 'epoch', 'recommended', 'popular']\n",
    "composers = pd.DataFrame(columns=composer_columns)\n",
    "\n",
    "works_columns = ['work_id', 'composer_id', 'title', 'subtitle', 'searchterms', 'genre', 'recommended', 'popular']\n",
    "works = pd.DataFrame(columns=works_columns)\n",
    "\n",
    "def read():\n",
    "    global composers\n",
    "    global works\n",
    "    raw_composers = pd.read_json(IN_FILE, orient='records')\n",
    "    for index, raw_composer in raw_composers.iterrows():\n",
    "        print('Processing', raw_composer['name'], index)\n",
    "        composer = {'composer_id': index, **raw_composer}\n",
    "        composers = pd.concat([composers, pd.DataFrame([composer]).filter(composer_columns)], ignore_index=True)\n",
    "        raw_works = composer['works']\n",
    "        cnt = 0\n",
    "        for raw_work in raw_works:\n",
    "            work = {'work_id': cnt, 'composer_id': index, **raw_work}\n",
    "            cnt += 1\n",
    "            works = pd.concat([works, pd.DataFrame([work])], ignore_index=True)\n",
    "    composers = composers.where(pd.notnull(composers), None)\n",
    "    works = works.where(pd.notnull(works), None)\n",
    "\n",
    "read()"
   ],
   "outputs": [],
   "execution_count": null
  },
  {
   "metadata": {},
   "cell_type": "markdown",
   "source": "### Composer",
   "id": "f262a0822c05a0c6"
  },
  {
   "metadata": {
    "ExecuteTime": {
     "end_time": "2024-12-30T00:21:25.964458Z",
     "start_time": "2024-12-30T00:21:25.960633Z"
    }
   },
   "cell_type": "code",
   "source": [
    "print('recommended cnt:', (composers['recommended'] == 1).sum())\n",
    "print('popular cnt:', (composers['popular'] == 1).sum())\n",
    "print()\n",
    "print('epoch:', composers['epoch'].value_counts())"
   ],
   "id": "30ec2eb3199f072b",
   "outputs": [
    {
     "name": "stdout",
     "output_type": "stream",
     "text": [
      "recommended cnt: 77\n",
      "popular cnt: 23\n",
      "\n",
      "epoch: epoch\n",
      "20th Century      49\n",
      "Late Romantic     39\n",
      "Romantic          36\n",
      "Post-War          27\n",
      "Baroque           22\n",
      "Renaissance       17\n",
      "Early Romantic    13\n",
      "Classical          9\n",
      "21st Century       4\n",
      "Medieval           4\n",
      "Name: count, dtype: int64\n"
     ]
    }
   ],
   "execution_count": 7
  },
  {
   "metadata": {},
   "cell_type": "markdown",
   "source": "### Work",
   "id": "a08bfbadbcdf2997"
  },
  {
   "metadata": {
    "ExecuteTime": {
     "end_time": "2024-12-30T00:26:00.331841Z",
     "start_time": "2024-12-30T00:26:00.306791Z"
    }
   },
   "cell_type": "code",
   "source": [
    "print('recommended:',works['recommended'].value_counts())\n",
    "print()\n",
    "print('popular:', works['popular'].value_counts())\n",
    "print()\n",
    "print('genre:', works['genre'].value_counts())"
   ],
   "id": "682528aac11367c0",
   "outputs": [
    {
     "name": "stdout",
     "output_type": "stream",
     "text": [
      "recommended: recommended\n",
      "0    23741\n",
      "1     1234\n",
      "Name: count, dtype: int64\n",
      "\n",
      "popular: popular\n",
      "0    24578\n",
      "1      397\n",
      "Name: count, dtype: int64\n",
      "\n",
      "genre: genre\n",
      "Vocal         8509\n",
      "Keyboard      5266\n",
      "Orchestral    5120\n",
      "Chamber       4806\n",
      "Stage         1274\n",
      "Name: count, dtype: int64\n"
     ]
    }
   ],
   "execution_count": 13
  },
  {
   "metadata": {
    "ExecuteTime": {
     "end_time": "2024-12-30T01:02:59.316709Z",
     "start_time": "2024-12-30T01:02:55.493104Z"
    }
   },
   "cell_type": "code",
   "source": [
    "import requests\n",
    "\n",
    "def get_composer_nationality(composer_name, language=\"en\"):\n",
    "    search_url = \"https://www.wikidata.org/w/api.php\"\n",
    "    search_params = {\n",
    "        \"action\": \"wbsearchentities\",\n",
    "        \"format\": \"json\",\n",
    "        \"language\": language,    # 搜索所用语言\n",
    "        \"search\": composer_name\n",
    "    }\n",
    "\n",
    "    try:\n",
    "        response = requests.get(search_url, params=search_params, timeout=10)\n",
    "        data = response.json()\n",
    "\n",
    "        # 若检索成功且有结果，取首条\n",
    "        if \"search\" in data and len(data[\"search\"]) > 0:\n",
    "            qid = data[\"search\"][0][\"id\"]  # 例如 \"Q254\"\n",
    "        else:\n",
    "            print(f\"[未找到匹配项] {composer_name}\")\n",
    "            return None\n",
    "    except Exception as e:\n",
    "        print(f\"[搜索异常] {composer_name} - {e}\")\n",
    "        return None\n",
    "\n",
    "    # Step 2: 根据 Q ID 获取实体信息（特别是 claims 中的 P27（国籍））\n",
    "    entity_url = \"https://www.wikidata.org/w/api.php\"\n",
    "    entity_params = {\n",
    "        \"action\": \"wbgetentities\",\n",
    "        \"format\": \"json\",\n",
    "        \"ids\": qid,\n",
    "        \"props\": \"claims|labels\",  # 同时拉取 claims 和 labels\n",
    "        \"languages\": language\n",
    "    }\n",
    "\n",
    "    try:\n",
    "        response = requests.get(entity_url, params=entity_params, timeout=10)\n",
    "        data = response.json()\n",
    "\n",
    "        # 解析国籍属性 P27\n",
    "        entity_data = data[\"entities\"].get(qid, {})\n",
    "        claims = entity_data.get(\"claims\", {})\n",
    "\n",
    "        if \"P27\" not in claims:\n",
    "            print(f\"[无国籍信息] {composer_name} (QID={qid})\")\n",
    "            return None\n",
    "\n",
    "        # 可能存在多个国籍，这里只演示取第一个\n",
    "        country_claim = claims[\"P27\"][0]\n",
    "        country_datavalue = (country_claim[\"mainsnak\"]\n",
    "                             .get(\"datavalue\", {})\n",
    "                             .get(\"value\", {}))\n",
    "\n",
    "        country_qid = country_datavalue.get(\"id\")  # 国籍对应的 Q ID（如 \"Q40\"=Austria）\n",
    "        if not country_qid:\n",
    "            print(f\"[国籍数据异常] {composer_name} (QID={qid})\")\n",
    "            return None\n",
    "\n",
    "        # 为了获取“国籍”的文字，需要进一步从 labels 中取\n",
    "        # 如果之前拉取了 labels，检查是否已经包含 country_qid 的信息\n",
    "        # 但通常 labels 中只包含当前实体的 label，没有包含 country 的 label。\n",
    "        # 因此需要再次查询 country_qid。\n",
    "\n",
    "        country_entity_params = {\n",
    "            \"action\": \"wbgetentities\",\n",
    "            \"format\": \"json\",\n",
    "            \"ids\": country_qid,\n",
    "            \"props\": \"labels\",\n",
    "            \"languages\": language\n",
    "        }\n",
    "        resp_country = requests.get(entity_url, params=country_entity_params, timeout=10).json()\n",
    "\n",
    "        country_entity = resp_country[\"entities\"].get(country_qid, {})\n",
    "        labels = country_entity.get(\"labels\", {})\n",
    "\n",
    "        # 从 label 中获取文本，例如 \"Austria\"\n",
    "        if language in labels and \"value\" in labels[language]:\n",
    "            country_label = labels[language][\"value\"]\n",
    "        else:\n",
    "            # 如果该语言下无 label，可尝试 \"en\" 或其他回退\n",
    "            country_label = labels.get(\"en\", {}).get(\"value\", None)\n",
    "\n",
    "        return country_label\n",
    "\n",
    "    except Exception as e:\n",
    "        print(f\"[实体查询异常] {composer_name} (QID={qid}) - {e}\")\n",
    "        return None\n",
    "\n",
    "\n",
    "# =============== 测试示例 ==================\n",
    "if __name__ == \"__main__\":\n",
    "    test_composers = [\n",
    "        \"Wolfgang Amadeus Mozart\",    # 奥地利作曲家\n",
    "        \"Pyotr Ilyich Tchaikovsky\",  # 俄罗斯作曲家\n",
    "        \"Johann Sebastian Bach\",     # 德国作曲家\n",
    "        \"Frederic Chopin\",           # 波兰/法国（多国籍）\n",
    "        \"Giacomo Puccini\",           # 意大利作曲家\n",
    "        \"xxxx yyy\"                   # 测试一个不存在或不知名的名字\n",
    "    ]\n",
    "\n",
    "    for composer in test_composers:\n",
    "        nationality = get_composer_nationality(composer)\n",
    "        print(f\"{composer} -> {nationality}\")"
   ],
   "id": "54a6e80f0308e4d1",
   "outputs": [
    {
     "name": "stdout",
     "output_type": "stream",
     "text": [
      "Wolfgang Amadeus Mozart -> Archduchy of Austria\n",
      "Pyotr Ilyich Tchaikovsky -> Russian Empire\n",
      "Johann Sebastian Bach -> Saxe-Eisenach\n",
      "Frederic Chopin -> France\n",
      "Giacomo Puccini -> Kingdom of Italy\n",
      "[未找到匹配项] xxxx yyy\n",
      "xxxx yyy -> None\n"
     ]
    }
   ],
   "execution_count": 16
  }
 ],
 "metadata": {
  "kernelspec": {
   "display_name": "Python 3",
   "language": "python",
   "name": "python3"
  },
  "language_info": {
   "codemirror_mode": {
    "name": "ipython",
    "version": 2
   },
   "file_extension": ".py",
   "mimetype": "text/x-python",
   "name": "python",
   "nbconvert_exporter": "python",
   "pygments_lexer": "ipython2",
   "version": "2.7.6"
  }
 },
 "nbformat": 4,
 "nbformat_minor": 5
}
